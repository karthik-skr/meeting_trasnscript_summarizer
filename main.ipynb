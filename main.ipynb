{
 "cells": [
  {
   "cell_type": "code",
   "execution_count": 1,
   "id": "3598270c",
   "metadata": {},
   "outputs": [],
   "source": [
    "!pip install langchain langchain-openai  python-dotenv --quiet"
   ]
  },
  {
   "cell_type": "code",
   "execution_count": 15,
   "id": "2d9845e9",
   "metadata": {},
   "outputs": [],
   "source": [
    "import os\n",
    "from dotenv import load_dotenv\n",
    "\n",
    "load_dotenv()\n",
    "\n",
    "model_name = \"gpt-4.1-mini\"\n"
   ]
  },
  {
   "cell_type": "code",
   "execution_count": 16,
   "id": "9188ce00",
   "metadata": {},
   "outputs": [],
   "source": [
    "from langchain_openai import AzureChatOpenAI\n",
    "llm = AzureChatOpenAI(api_version=\"2024-12-01-preview\",model= model_name)"
   ]
  },
  {
   "cell_type": "code",
   "execution_count": 6,
   "id": "e3ab7483",
   "metadata": {},
   "outputs": [],
   "source": [
    "from pydantic import BaseModel\n",
    "from typing import List\n",
    "from langchain_core.output_parsers import PydanticOutputParser\n",
    "\n",
    "class MeetingNotes(BaseModel):\n",
    "    summary: str\n",
    "    action_items: List[str]\n",
    "\n",
    "parser = PydanticOutputParser(pydantic_object=MeetingNotes)"
   ]
  },
  {
   "cell_type": "code",
   "execution_count": 17,
   "id": "a6fefc26",
   "metadata": {},
   "outputs": [],
   "source": [
    "from langchain_core.prompts import PromptTemplate\n",
    "\n",
    "def extract_meeting_notes(transcript: str):\n",
    "\n",
    "    prompt = PromptTemplate.from_template(\"\"\"\n",
    "        You are a meeting assistant.\n",
    "        1. Summarize the meeting transcription below in exactly two sentences.\n",
    "        2. Then list all action items mentioned, each as a separate bullet beginning with a dash.\n",
    "\n",
    "        Transcript:\n",
    "        {transcript}\n",
    "\n",
    "        Return the result strictly in this JSON format:\n",
    "        {format_instructions}\n",
    "    \"\"\")\n",
    "\n",
    "    chain = prompt | llm | parser\n",
    "    output = chain.invoke({\n",
    "        \"transcript\":transcript,\n",
    "        \"format_instructions\": parser.get_format_instructions()\n",
    "    })\n",
    "\n",
    "    return output.model_dump()"
   ]
  },
  {
   "cell_type": "code",
   "execution_count": 18,
   "id": "2ae8dbbb",
   "metadata": {},
   "outputs": [
    {
     "data": {
      "text/plain": [
       "{'summary': 'The marketing team discussed the progress on the social campaign draft and the timeline for design asset delivery. Budget submission deadlines were emphasized, and final budget documents will be circulated soon.',\n",
       " 'action_items': ['Emma to share the social campaign draft today',\n",
       "  'Design team to deliver assets by Tuesday',\n",
       "  'Emma to schedule ads once assets are received',\n",
       "  'All team members to submit budget requests before end of day',\n",
       "  'Host to send out the final budget spreadsheet']}"
      ]
     },
     "execution_count": 18,
     "metadata": {},
     "output_type": "execute_result"
    }
   ],
   "source": [
    "extract_meeting_notes(\"\"\"Host: Let’s kick off our marketing sync.  \n",
    "Emma: The social campaign draft is 80% done; I’ll share it today.  \n",
    "Frank: I spoke with the design team—they’ll deliver assets by Tuesday.  \n",
    "Emma: Once we have assets, I’ll schedule the ads for next week.  \n",
    "George: Reminder: submit your budget requests before end of day.  \n",
    "Host: Noted. I’ll send out the final budget spreadsheet.  \n",
    "\"\"\")"
   ]
  },
  {
   "cell_type": "code",
   "execution_count": null,
   "id": "63792cdc",
   "metadata": {},
   "outputs": [
    {
     "data": {
      "text/plain": [
       "{'summary': 'The team discussed finalizing the Q3 roadmap, including reviewing the updated feature list, scheduling user-testing sessions, and preparing UI mockups. Additionally, tasks such as compiling stakeholder feedback into a slide deck were assigned to ensure progress before the next deadlines.',\n",
       " 'action_items': ['Review the updated feature list by Friday.',\n",
       "  'Set up user-testing sessions next week.',\n",
       "  'Push the new UI mockups to staging on Wednesday.',\n",
       "  'Compile the stakeholder feedback into a slide deck by Monday.']}"
      ]
     },
     "execution_count": 19,
     "metadata": {},
     "output_type": "execute_result"
    }
   ],
   "source": [
    "extract_meeting_notes(\"\"\"Alice: Welcome everyone. Today we need to finalize the Q3 roadmap.  \n",
    "Bob: I’ve emailed the updated feature list—please review by Friday.  \n",
    "Carol: I’ll set up the user‐testing sessions next week.  \n",
    "Dan: Let’s push the new UI mockups to staging on Wednesday.  \n",
    "Alice: Great. Also, can someone compile the stakeholder feedback into a slide deck?  \n",
    "Bob: I can handle the slide deck by Monday.  \n",
    "Alice: Thanks, team. Meeting adjourned.  \n",
    "\"\"\")"
   ]
  },
  {
   "cell_type": "code",
   "execution_count": 20,
   "id": "8413f212",
   "metadata": {},
   "outputs": [
    {
     "data": {
      "text/plain": [
       "{'summary': 'The team has identified a bottleneck in the checkout API and plans to benchmark current response times, optimize database indices, and prepare a rollback plan. Carlos will lead the benchmarking, propose index changes, and include the rollback plan in his ticket.',\n",
       " 'action_items': ['Benchmark the current response times by tomorrow',\n",
       "  'Optimize the database indices after benchmarking',\n",
       "  'Propose index changes by Thursday',\n",
       "  'Draft a rollback plan in case of production issues and include it in the ticket']}"
      ]
     },
     "execution_count": 20,
     "metadata": {},
     "output_type": "execute_result"
    }
   ],
   "source": [
    "extract_meeting_notes(\"\"\"Priya: We’ve identified a bottleneck in the checkout API.  \n",
    "Carlos: I’ll benchmark the current response times by tomorrow.  \n",
    "Priya: After that, optimize the database indices.  \n",
    "Carlos: Sure, I’ll propose index changes by Thursday.  \n",
    "Sara: Also, draft a rollback plan in case of production issues.  \n",
    "Carlos: I’ll include that in my ticket.  \n",
    "\"\"\")"
   ]
  },
  {
   "cell_type": "code",
   "execution_count": 21,
   "id": "3afdfb39",
   "metadata": {},
   "outputs": [
    {
     "data": {
      "text/plain": [
       "{'summary': 'The team discussed updating the travel-expense policy, including adding guidelines on per diem limits. Alex will draft the policy and share it with Legal for review, after which a companywide announcement will be scheduled.',\n",
       " 'action_items': ['Alex to draft the new travel-expense policy document and share it with Legal.',\n",
       "  'Include guidelines on per diem limits in the policy draft.',\n",
       "  'Legal to review the draft and provide feedback within three days.',\n",
       "  'Schedule a companywide announcement once the policy is finalized.']}"
      ]
     },
     "execution_count": 21,
     "metadata": {},
     "output_type": "execute_result"
    }
   ],
   "source": [
    "extract_meeting_notes(\"\"\"HR: We need to update the travel‐expense policy.  \n",
    "Alex: I’ll draft the new policy doc and share with legal.  \n",
    "HR: Please include guidelines on per diem limits.  \n",
    "Legal: I’ll review and provide feedback within three days.  \n",
    "HR: Once finalized, schedule a companywide announcement.  \n",
    "\"\"\")"
   ]
  },
  {
   "cell_type": "code",
   "execution_count": 24,
   "id": "e98fe4eb",
   "metadata": {},
   "outputs": [
    {
     "data": {
      "text/plain": [
       "{'summary': \"The transcript provided contained only the word 'test' and did not include any substantive discussion or content. Therefore, no key topics or points were addressed during this meeting.\",\n",
       " 'action_items': []}"
      ]
     },
     "execution_count": 24,
     "metadata": {},
     "output_type": "execute_result"
    }
   ],
   "source": [
    "extract_meeting_notes(\"test\")"
   ]
  }
 ],
 "metadata": {
  "kernelspec": {
   "display_name": ".venv",
   "language": "python",
   "name": "python3"
  },
  "language_info": {
   "codemirror_mode": {
    "name": "ipython",
    "version": 3
   },
   "file_extension": ".py",
   "mimetype": "text/x-python",
   "name": "python",
   "nbconvert_exporter": "python",
   "pygments_lexer": "ipython3",
   "version": "3.13.2"
  }
 },
 "nbformat": 4,
 "nbformat_minor": 5
}
